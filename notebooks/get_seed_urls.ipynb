{
 "cells": [
  {
   "cell_type": "code",
   "execution_count": 1,
   "id": "c84fe151",
   "metadata": {},
   "outputs": [],
   "source": [
    "%load_ext autoreload\n",
    "%autoreload 2"
   ]
  },
  {
   "cell_type": "code",
   "execution_count": 3,
   "id": "643991ad",
   "metadata": {},
   "outputs": [
    {
     "name": "stdout",
     "output_type": "stream",
     "text": [
      "['https://data.commoncrawl.org/cc-index/collections/CC-MAIN-2025-21/indexes/cdx-00000.gz', 'https://data.commoncrawl.org/cc-index/collections/CC-MAIN-2025-21/indexes/cdx-00001.gz', 'https://data.commoncrawl.org/cc-index/collections/CC-MAIN-2025-21/indexes/cdx-00002.gz', 'https://data.commoncrawl.org/cc-index/collections/CC-MAIN-2025-21/indexes/cdx-00003.gz', 'https://data.commoncrawl.org/cc-index/collections/CC-MAIN-2025-21/indexes/cdx-00004.gz']\n"
     ]
    }
   ],
   "source": [
    "# Let's get some WET files.\n",
    "from crawl.crawler import fetch_paths, fetch_urls\n",
    "\n",
    "# Get 5 WET files from this crawl.\n",
    "crawl = \"CC-MAIN-2025-21\"\n",
    "\n",
    "urls = list(fetch_urls(crawl))\n",
    "print(urls[:5])"
   ]
  }
 ],
 "metadata": {
  "kernelspec": {
   "display_name": ".venv (3.13.3)",
   "language": "python",
   "name": "python3"
  },
  "language_info": {
   "codemirror_mode": {
    "name": "ipython",
    "version": 3
   },
   "file_extension": ".py",
   "mimetype": "text/x-python",
   "name": "python",
   "nbconvert_exporter": "python",
   "pygments_lexer": "ipython3",
   "version": "3.13.3"
  }
 },
 "nbformat": 4,
 "nbformat_minor": 5
}
