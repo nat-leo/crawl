{
 "cells": [
  {
   "cell_type": "code",
   "execution_count": null,
   "id": "c84fe151",
   "metadata": {},
   "outputs": [],
   "source": [
    "%load_ext autoreload\n",
    "%autoreload 2"
   ]
  },
  {
   "cell_type": "code",
   "execution_count": null,
   "id": "643991ad",
   "metadata": {},
   "outputs": [],
   "source": [
    "# Let's get some WET files.\n",
    "from crawl.crawler import fetch_paths, fetch_urls\n",
    "\n",
    "# Get 5 WET files from this crawl.\n",
    "crawl = \"CC-MAIN-2025-21\"\n",
    "\n",
    "wet = list(fetch_urls(crawl))\n",
    "print(wet[:5])"
   ]
  },
  {
   "cell_type": "code",
   "execution_count": null,
   "id": "1761f9a4",
   "metadata": {},
   "outputs": [],
   "source": [
    "# What do I do with a one of these files?\n",
    "import requests, gzip\n",
    "\n",
    "url = wet[0]\n",
    "with requests.get(url, stream=True) as r:\n",
    "    r.raise_for_status()\n",
    "    with gzip.open(r.raw, \"rt\", encoding=\"utf-8\") as f:\n",
    "        for i, line in enumerate(f):\n",
    "            print(line.strip())\n",
    "            if i > 20:  # stop after 20 lines for testing\n",
    "                break"
   ]
  }
 ],
 "metadata": {
  "kernelspec": {
   "display_name": "venv (3.13.3)",
   "language": "python",
   "name": "python3"
  },
  "language_info": {
   "codemirror_mode": {
    "name": "ipython",
    "version": 3
   },
   "file_extension": ".py",
   "mimetype": "text/x-python",
   "name": "python",
   "nbconvert_exporter": "python",
   "pygments_lexer": "ipython3",
   "version": "3.13.3"
  }
 },
 "nbformat": 4,
 "nbformat_minor": 5
}
