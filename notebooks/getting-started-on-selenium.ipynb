{
 "cells": [
  {
   "cell_type": "code",
   "execution_count": null,
   "id": "2d843b25",
   "metadata": {},
   "outputs": [],
   "source": [
    "\"\"\"\n",
    "Run the jupyter notebook in \n",
    "\"\"\"\n",
    "from selenium import webdriver\n",
    "from selenium.webdriver.common.by import By\n",
    "from selenium.webdriver.common.keys import Keys\n",
    "from selenium.webdriver.support.ui import WebDriverWait\n",
    "from selenium.webdriver.support import expected_conditions as EC\n",
    "\n",
    "driver = webdriver.Firefox()\n",
    "driver.get(\"http://localhost:8888/\")\n",
    "\n",
    "wait = WebDriverWait(driver, 10)\n",
    "form = wait.until(EC.presence_of_element_located((By.TAG_NAME, \"form\")))  # by id\n",
    "field = wait.until(\n",
    "    EC.visibility_of_element_located((\n",
    "        By.CSS_SELECTOR,\n",
    "        \"form input:not([type='hidden']), form textarea, form [contenteditable='true'], form [contenteditable='']\"\n",
    "    ))\n",
    ")\n",
    "field.click()\n",
    "try:\n",
    "    field.clear() # clears most inputs/textareas\n",
    "except Exception:\n",
    "    pass\n",
    "field.send_keys(\"8f32107b9dcfff60ef0800aebe21d3dd3c4fe8c4d7305d34\")\n",
    "# If needed to submit:\n",
    "field.send_keys(Keys.ENTER)\n",
    "\n",
    "#driver.quit()"
   ]
  },
  {
   "cell_type": "markdown",
   "id": "e5c63ca6",
   "metadata": {},
   "source": []
  }
 ],
 "metadata": {
  "kernelspec": {
   "display_name": "Python (crawl-venv)",
   "language": "python",
   "name": "crawl-venv"
  },
  "language_info": {
   "codemirror_mode": {
    "name": "ipython",
    "version": 3
   },
   "file_extension": ".py",
   "mimetype": "text/x-python",
   "name": "python",
   "nbconvert_exporter": "python",
   "pygments_lexer": "ipython3",
   "version": "3.13.3"
  }
 },
 "nbformat": 4,
 "nbformat_minor": 5
}
